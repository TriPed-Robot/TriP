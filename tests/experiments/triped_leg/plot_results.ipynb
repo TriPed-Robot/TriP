{
 "cells": [
  {
   "cell_type": "code",
   "execution_count": 5,
   "metadata": {},
   "outputs": [],
   "source": [
    "import matplotlib.pyplot as plt\n",
    "import csv"
   ]
  },
  {
   "cell_type": "code",
   "execution_count": 6,
   "metadata": {},
   "outputs": [],
   "source": [
    "def read_csv(filename, dtype=float):\n",
    "    with open(filename) as csvfile:\n",
    "        reader = csv.reader(csvfile, delimiter=',')\n",
    "        first = True\n",
    "        lst = []\n",
    "        rows = 0\n",
    "        for row in reader:\n",
    "            if first:\n",
    "                rows = len(row)\n",
    "                for i in range(rows):\n",
    "                    lst.append([])\n",
    "                first = False\n",
    "\n",
    "            for j in range(rows):\n",
    "                lst[j].append(float(row[j]))\n",
    "        return lst\n",
    "\n",
    "def get_error(data_1,data_2):\n",
    "    error = []\n",
    "    for i in range(len(data_1)):     \n",
    "        error.append(abs(data_2[i] - data_1[i]))\n",
    "    return error"
   ]
  },
  {
   "cell_type": "markdown",
   "metadata": {},
   "source": [
    "# Inverse Kinematics Test\n",
    "This section plots the result of the inverse kinematics test. \n",
    "The output should correspond to the matlab output"
   ]
  },
  {
   "cell_type": "code",
   "execution_count": 7,
   "metadata": {},
   "outputs": [],
   "source": [
    "joint_values = read_csv('output_data/left_right_extend.csv')\n",
    "matlab_joint_values = read_csv('matlab/left_extend_right.csv')\n",
    "#tips = read_csv('matlab_output/gimbal_extend.csv')"
   ]
  },
  {
   "cell_type": "code",
   "execution_count": 8,
   "metadata": {},
   "outputs": [],
   "source": [
    "joint_values_t1 = joint_values[0]\n",
    "joint_values_t2 = joint_values[1]\n",
    "joint_values_e  = joint_values[2]\n",
    "\n",
    "matlab_joint_values_t1 = matlab_joint_values[1]\n",
    "matlab_joint_values_e  = matlab_joint_values[2]\n",
    "matlab_joint_values_t2 = matlab_joint_values[3]\n",
    "\n",
    "error_t1 = get_error(matlab_joint_values_t1,joint_values_t1)\n",
    "error_t2 = get_error(matlab_joint_values_t2,joint_values_t2)\n",
    "error_e  = get_error(matlab_joint_values_e,joint_values_e)"
   ]
  },
  {
   "cell_type": "code",
   "execution_count": 9,
   "metadata": {},
   "outputs": [
    {
     "ename": "NameError",
     "evalue": "name 'foot_coordinates_t1' is not defined",
     "output_type": "error",
     "traceback": [
      "\u001b[0;31m---------------------------------------------------------------------------\u001b[0m",
      "\u001b[0;31mNameError\u001b[0m                                 Traceback (most recent call last)",
      "\u001b[0;32m<ipython-input-9-29ce47e81341>\u001b[0m in \u001b[0;36m<module>\u001b[0;34m()\u001b[0m\n\u001b[0;32m----> 1\u001b[0;31m \u001b[0mplt\u001b[0m\u001b[0;34m.\u001b[0m\u001b[0mplot\u001b[0m\u001b[0;34m(\u001b[0m\u001b[0mfoot_coordinates_t1\u001b[0m\u001b[0;34m,\u001b[0m\u001b[0mlabel\u001b[0m\u001b[0;34m=\u001b[0m\u001b[0;34m\"t1\"\u001b[0m\u001b[0;34m)\u001b[0m\u001b[0;34m\u001b[0m\u001b[0m\n\u001b[0m\u001b[1;32m      2\u001b[0m \u001b[0mplt\u001b[0m\u001b[0;34m.\u001b[0m\u001b[0mplot\u001b[0m\u001b[0;34m(\u001b[0m\u001b[0mfoot_coordinates_t2\u001b[0m\u001b[0;34m,\u001b[0m\u001b[0mlabel\u001b[0m\u001b[0;34m=\u001b[0m\u001b[0;34m\"t2\"\u001b[0m\u001b[0;34m)\u001b[0m\u001b[0;34m\u001b[0m\u001b[0m\n\u001b[1;32m      3\u001b[0m \u001b[0mplt\u001b[0m\u001b[0;34m.\u001b[0m\u001b[0mplot\u001b[0m\u001b[0;34m(\u001b[0m\u001b[0mfoot_coordinates_e\u001b[0m\u001b[0;34m,\u001b[0m\u001b[0mlabel\u001b[0m\u001b[0;34m=\u001b[0m\u001b[0;34m\"e\"\u001b[0m\u001b[0;34m)\u001b[0m\u001b[0;34m\u001b[0m\u001b[0m\n\u001b[1;32m      4\u001b[0m \u001b[0mplt\u001b[0m\u001b[0;34m.\u001b[0m\u001b[0mplot\u001b[0m\u001b[0;34m(\u001b[0m\u001b[0mmatlab_foot_coordinates_t1\u001b[0m\u001b[0;34m,\u001b[0m\u001b[0mlabel\u001b[0m\u001b[0;34m=\u001b[0m\u001b[0;34m\"m_t1\"\u001b[0m\u001b[0;34m)\u001b[0m\u001b[0;34m\u001b[0m\u001b[0m\n\u001b[1;32m      5\u001b[0m \u001b[0mplt\u001b[0m\u001b[0;34m.\u001b[0m\u001b[0mplot\u001b[0m\u001b[0;34m(\u001b[0m\u001b[0mmatlab_foot_coordinates_t2\u001b[0m\u001b[0;34m,\u001b[0m\u001b[0mlabel\u001b[0m\u001b[0;34m=\u001b[0m\u001b[0;34m\"m_t2\"\u001b[0m\u001b[0;34m)\u001b[0m\u001b[0;34m\u001b[0m\u001b[0m\n",
      "\u001b[0;31mNameError\u001b[0m: name 'foot_coordinates_t1' is not defined"
     ]
    }
   ],
   "source": [
    "plt.plot(foot_coordinates_t1,label=\"t1\")\n",
    "plt.plot(foot_coordinates_t2,label=\"t2\")\n",
    "plt.plot(foot_coordinates_e,label=\"e\")\n",
    "plt.plot(matlab_foot_coordinates_t1,label=\"m_t1\")\n",
    "plt.plot(matlab_foot_coordinates_t2,label=\"m_t2\")\n",
    "plt.plot(matlab_foot_coordinates_e,label=\"m_e\")\n",
    "\n",
    "\n",
    "plt.title(\"Inverse Kinematics Trip vs Matlab\")\n",
    "plt.legend(loc='upper right')\n",
    "plt.show()"
   ]
  },
  {
   "cell_type": "code",
   "execution_count": null,
   "metadata": {},
   "outputs": [],
   "source": [
    "plt.plot(error_t1,label=\"error_t1\")\n",
    "plt.plot(error_t2,label=\"error_t2\")\n",
    "plt.plot(error_e,label=\"error_e\")\n",
    "plt.title(\"Exp_2 Error\")\n",
    "plt.legend(loc='upper right')\n",
    "plt.show()"
   ]
  },
  {
   "cell_type": "markdown",
   "metadata": {},
   "source": [
    "# Forward Test\n",
    "This section plots the result of the forward kinematics test. \n",
    "The output should correspond to the matlab output"
   ]
  },
  {
   "cell_type": "code",
   "execution_count": null,
   "metadata": {},
   "outputs": [],
   "source": [
    "foot_coordinates = read_csv('output_data/foot_coordinates.csv')\n",
    "matlab_foot_coordinates = read_csv('matlab/foot_coordinates.csv')"
   ]
  },
  {
   "cell_type": "code",
   "execution_count": null,
   "metadata": {},
   "outputs": [],
   "source": [
    "foot_coordinates_x = foot_coordinates[0]\n",
    "foot_coordinates_y = foot_coordinates[1]\n",
    "foot_coordinates_z = foot_coordinates[2]\n",
    "\n",
    "matlab_foot_coordinates_x = matlab_foot_coordinates[1]\n",
    "matlab_foot_coordinates_y = matlab_foot_coordinates[2]\n",
    "matlab_foot_coordinates_z = matlab_foot_coordinates[3]\n",
    "\n",
    "error_x = get_error(matlab_foot_coordinates_x,foot_coordinates_x)\n",
    "error_y = get_error(matlab_foot_coordinates_y,foot_coordinates_y)\n",
    "error_z = get_error(matlab_foot_coordinates_z,foot_coordinates_z)"
   ]
  },
  {
   "cell_type": "code",
   "execution_count": null,
   "metadata": {},
   "outputs": [],
   "source": [
    "plt.plot(foot_coordinates_x,label=\"x\")\n",
    "plt.plot(foot_coordinates_y,label=\"y\")\n",
    "plt.plot(foot_coordinates_z,label=\"z\")\n",
    "plt.plot(matlab_foot_coordinates_x,label=\"m_x\")\n",
    "plt.plot(matlab_foot_coordinates_y,label=\"m_y\")\n",
    "plt.plot(matlab_foot_coordinates_z,label=\"m_z\")\n",
    "\n",
    "\n",
    "plt.title(\"Forward Kinematics Trip vs Matlab\")\n",
    "plt.legend(loc='upper right')\n",
    "plt.show()"
   ]
  }
 ],
 "metadata": {
  "interpreter": {
   "hash": "31f2aee4e71d21fbe5cf8b01ff0e069b9275f58929596ceb00d14d90e3e16cd6"
  },
  "kernelspec": {
   "display_name": "Python 3",
   "language": "python",
   "name": "python3"
  },
  "language_info": {
   "codemirror_mode": {
    "name": "ipython",
    "version": 2
   },
   "file_extension": ".py",
   "mimetype": "text/x-python",
   "name": "python",
   "nbconvert_exporter": "python",
   "pygments_lexer": "ipython2",
   "version": "2.7.17"
  },
  "metadata": {
   "interpreter": {
    "hash": "916dbcbb3f70747c44a77c7bcd40155683ae19c65e1c03b4aa3499c5328201f1"
   }
  }
 },
 "nbformat": 4,
 "nbformat_minor": 2
}
