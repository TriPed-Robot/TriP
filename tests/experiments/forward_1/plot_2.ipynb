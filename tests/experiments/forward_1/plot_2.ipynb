{
 "cells": [
  {
   "cell_type": "code",
   "execution_count": 1,
   "metadata": {},
   "outputs": [],
   "source": [
    "import matplotlib.pyplot as plt\n",
    "import csv"
   ]
  },
  {
   "cell_type": "code",
   "execution_count": 2,
   "metadata": {},
   "outputs": [],
   "source": [
    "def read_csv(filename, dtype=float):\n",
    "    with open(filename) as csvfile:\n",
    "        reader = csv.reader(csvfile, delimiter=',')\n",
    "        first = True\n",
    "        lst = []\n",
    "        rows = 0\n",
    "        for row in reader:\n",
    "            if first:\n",
    "                rows = len(row)\n",
    "                for i in range(rows):\n",
    "                    lst.append([])\n",
    "                first = False\n",
    "\n",
    "            for j in range(rows):\n",
    "                lst[j].append(float(row[j]))\n",
    "        return lst\n",
    "\n",
    "def get_error(data_1,data_2):\n",
    "    error = []\n",
    "    for i in range(len(data_1)):     \n",
    "        error.append(abs(data_2[i] - data_1[i]))\n",
    "    return error"
   ]
  },
  {
   "cell_type": "code",
   "execution_count": 3,
   "metadata": {},
   "outputs": [
    {
     "ename": "IOError",
     "evalue": "[Errno 2] No such file or directory: 'output_data/left_right_extend.csv'",
     "output_type": "error",
     "traceback": [
      "\u001b[0;31m---------------------------------------------------------------------------\u001b[0m",
      "\u001b[0;31mIOError\u001b[0m                                   Traceback (most recent call last)",
      "\u001b[0;32m<ipython-input-3-aed45f5fac2b>\u001b[0m in \u001b[0;36m<module>\u001b[0;34m()\u001b[0m\n\u001b[0;32m----> 1\u001b[0;31m \u001b[0mfoot_coordinates\u001b[0m \u001b[0;34m=\u001b[0m \u001b[0mread_csv\u001b[0m\u001b[0;34m(\u001b[0m\u001b[0;34m'output_data/left_right_extend.csv'\u001b[0m\u001b[0;34m)\u001b[0m\u001b[0;34m\u001b[0m\u001b[0m\n\u001b[0m\u001b[1;32m      2\u001b[0m \u001b[0mmatlab_foot_coordinates\u001b[0m \u001b[0;34m=\u001b[0m \u001b[0mread_csv\u001b[0m\u001b[0;34m(\u001b[0m\u001b[0;34m'matlab_output/left_extend_right.csv'\u001b[0m\u001b[0;34m)\u001b[0m\u001b[0;34m\u001b[0m\u001b[0m\n\u001b[1;32m      3\u001b[0m \u001b[0;31m#tips = read_csv('matlab_output/gimbal_extend.csv')\u001b[0m\u001b[0;34m\u001b[0m\u001b[0;34m\u001b[0m\u001b[0m\n",
      "\u001b[0;32m<ipython-input-2-54b3fec28265>\u001b[0m in \u001b[0;36mread_csv\u001b[0;34m(filename, dtype)\u001b[0m\n\u001b[1;32m      1\u001b[0m \u001b[0;32mdef\u001b[0m \u001b[0mread_csv\u001b[0m\u001b[0;34m(\u001b[0m\u001b[0mfilename\u001b[0m\u001b[0;34m,\u001b[0m \u001b[0mdtype\u001b[0m\u001b[0;34m=\u001b[0m\u001b[0mfloat\u001b[0m\u001b[0;34m)\u001b[0m\u001b[0;34m:\u001b[0m\u001b[0;34m\u001b[0m\u001b[0m\n\u001b[0;32m----> 2\u001b[0;31m     \u001b[0;32mwith\u001b[0m \u001b[0mopen\u001b[0m\u001b[0;34m(\u001b[0m\u001b[0mfilename\u001b[0m\u001b[0;34m)\u001b[0m \u001b[0;32mas\u001b[0m \u001b[0mcsvfile\u001b[0m\u001b[0;34m:\u001b[0m\u001b[0;34m\u001b[0m\u001b[0m\n\u001b[0m\u001b[1;32m      3\u001b[0m         \u001b[0mreader\u001b[0m \u001b[0;34m=\u001b[0m \u001b[0mcsv\u001b[0m\u001b[0;34m.\u001b[0m\u001b[0mreader\u001b[0m\u001b[0;34m(\u001b[0m\u001b[0mcsvfile\u001b[0m\u001b[0;34m,\u001b[0m \u001b[0mdelimiter\u001b[0m\u001b[0;34m=\u001b[0m\u001b[0;34m','\u001b[0m\u001b[0;34m)\u001b[0m\u001b[0;34m\u001b[0m\u001b[0m\n\u001b[1;32m      4\u001b[0m         \u001b[0mfirst\u001b[0m \u001b[0;34m=\u001b[0m \u001b[0mTrue\u001b[0m\u001b[0;34m\u001b[0m\u001b[0m\n\u001b[1;32m      5\u001b[0m         \u001b[0mlst\u001b[0m \u001b[0;34m=\u001b[0m \u001b[0;34m[\u001b[0m\u001b[0;34m]\u001b[0m\u001b[0;34m\u001b[0m\u001b[0m\n",
      "\u001b[0;31mIOError\u001b[0m: [Errno 2] No such file or directory: 'output_data/left_right_extend.csv'"
     ]
    }
   ],
   "source": [
    "foot_coordinates = read_csv('output_data/left_right_extend.csv')\n",
    "matlab_foot_coordinates = read_csv('matlab_output/left_extend_right.csv')\n",
    "#tips = read_csv('matlab_output/gimbal_extend.csv')\n"
   ]
  },
  {
   "cell_type": "code",
   "execution_count": null,
   "metadata": {},
   "outputs": [],
   "source": [
    "foot_coordinates_t1 = foot_coordinates[0]\n",
    "foot_coordinates_t2 = foot_coordinates[1]\n",
    "foot_coordinates_e = foot_coordinates[2]\n",
    "\n",
    "matlab_foot_coordinates_t1 = matlab_foot_coordinates[1]\n",
    "matlab_foot_coordinates_e = matlab_foot_coordinates[2]\n",
    "matlab_foot_coordinates_t2 = matlab_foot_coordinates[3]\n",
    "\n",
    "#tip_t1 = tips[1]\n",
    "#tip_t2 = tips[2]\n",
    "#tip_e = tips[3]\n",
    "\n",
    "#time = matlab_foot_coordinates[0]\n",
    "\n",
    "error_t1 = get_error(matlab_foot_coordinates_t1,foot_coordinates_t1)\n",
    "error_t2 = get_error(matlab_foot_coordinates_t2,foot_coordinates_t2)\n",
    "error_e = get_error(matlab_foot_coordinates_e,foot_coordinates_e)"
   ]
  },
  {
   "cell_type": "code",
   "execution_count": null,
   "metadata": {},
   "outputs": [],
   "source": [
    "plt.plot(foot_coordinates_t1,label=\"t1\")\n",
    "plt.plot(foot_coordinates_t2,label=\"t2\")\n",
    "plt.plot(foot_coordinates_e,label=\"e\")\n",
    "plt.plot(matlab_foot_coordinates_t1,label=\"m_t1\")\n",
    "plt.plot(matlab_foot_coordinates_t2,label=\"m_t2\")\n",
    "plt.plot(matlab_foot_coordinates_e,label=\"m_e\")\n",
    "#plt.plot(tip_t1,label=\"tip_t1\")\n",
    "#plt.plot(tip_t2,label=\"tip_t2\")\n",
    "#plt.plot(tip_e,label=\"tip_e\")\n",
    "\n",
    "\n",
    "plt.title(\"Exp_2_inverse Swing and extend\")\n",
    "plt.legend(loc='upper right')\n",
    "plt.ylim(-1,1)\n",
    "plt.show()"
   ]
  },
  {
   "cell_type": "code",
   "execution_count": null,
   "metadata": {},
   "outputs": [],
   "source": [
    "plt.plot(error_t1,label=\"error_t1\")\n",
    "plt.plot(error_t2,label=\"error_t2\")\n",
    "plt.plot(error_e,label=\"error_e\")\n",
    "plt.title(\"Exp_2 Error\")\n",
    "plt.legend(loc='upper right')\n",
    "plt.show()"
   ]
  },
  {
   "cell_type": "code",
   "execution_count": null,
   "metadata": {},
   "outputs": [],
   "source": [
    "# matlab gravity 9.80665"
   ]
  }
 ],
 "metadata": {
  "interpreter": {
   "hash": "31f2aee4e71d21fbe5cf8b01ff0e069b9275f58929596ceb00d14d90e3e16cd6"
  },
  "kernelspec": {
   "display_name": "Python 3",
   "language": "python",
   "name": "python3"
  },
  "language_info": {
   "codemirror_mode": {
    "name": "ipython",
    "version": 2
   },
   "file_extension": ".py",
   "mimetype": "text/x-python",
   "name": "python",
   "nbconvert_exporter": "python",
   "pygments_lexer": "ipython2",
   "version": "2.7.17"
  },
  "metadata": {
   "interpreter": {
    "hash": "916dbcbb3f70747c44a77c7bcd40155683ae19c65e1c03b4aa3499c5328201f1"
   }
  }
 },
 "nbformat": 4,
 "nbformat_minor": 2
}
